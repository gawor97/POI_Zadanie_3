{
 "cells": [
  {
   "cell_type": "code",
   "execution_count": 19,
   "id": "b0f31aed",
   "metadata": {},
   "outputs": [],
   "source": [
    "from pandas import DataFrame\n",
    "from itertools import product\n",
    "import numpy as np\n",
    "from PIL import Image\n",
    "from skimage.feature import greycomatrix, greycoprops\n",
    "from glob import glob\n",
    "from os.path import sep, join, splitext"
   ]
  },
  {
   "cell_type": "code",
   "execution_count": 20,
   "id": "15a0a436",
   "metadata": {},
   "outputs": [],
   "source": [
    "cechy_tekstur = ('dissimilarity', 'contrast', 'correlation', 'energy', 'homogeneity', 'ASM')\n",
    "\n",
    "distances = (1, 3, 5)\n",
    "\n",
    "angles = (0, np.pi/4, np.pi/2, 3*np.pi/4)"
   ]
  },
  {
   "cell_type": "code",
   "execution_count": 21,
   "id": "cf885633",
   "metadata": {},
   "outputs": [],
   "source": [
    "def get_full_names():\n",
    "    dist_str = ('1', '2', '5')\n",
    "    angles_str = '0deg, 45deg, 90deg, 135deg'.split(',')\n",
    "    return ['_'.join(f) for f in product(cechy_tekstur, dist_str, angles_str)]"
   ]
  },
  {
   "cell_type": "code",
   "execution_count": 22,
   "id": "b1d50927",
   "metadata": {},
   "outputs": [],
   "source": [
    "def get_glcm_feature_array(patch):\n",
    "    patch_64 = (patch / np.max(patch) * 63).astype('uint8')\n",
    "    glcm = greycomatrix(patch_64, distances, angles, 64, True, True)\n",
    "    feature_vector = []\n",
    "    for feature in cechy_tekstur:\n",
    "        feature_vector.extend(list(greycoprops(glcm, feature).flatten()))\n",
    "    return feature_vector"
   ]
  },
  {
   "cell_type": "code",
   "execution_count": 23,
   "id": "9b1896ff",
   "metadata": {},
   "outputs": [],
   "source": [
    "texture_folder = \"Textures\"\n",
    "samples_folder = \"TextureSamples\"\n",
    "paths = glob(texture_folder + \"\\\\*\\\\*.jpg\")\n",
    "\n",
    "fil2 = [p.split(sep) for p in paths]\n",
    "_, categories, files = zip(*fil2)\n",
    "\n",
    "size = 128, 128 # rozmiar probek zdjec\n",
    "\n",
    "features = []"
   ]
  },
  {
   "cell_type": "code",
   "execution_count": 24,
   "id": "82f71203",
   "metadata": {},
   "outputs": [],
   "source": [
    "for category, infile in zip(categories, files):\n",
    "    img = Image.open(join(texture_folder, category, infile))\n",
    "    xr = np.random.randint(0, img.width-size[0], 10)           \n",
    "    yr = np.random.randint(0, img.height-size[1], 10)          \n",
    "    base_name, _ = splitext(infile)                             \n",
    "    for i, (x, y) in enumerate(zip(xr, yr)):\n",
    "        img_sample = img.crop((x, y, x+size[0], y+size[1]))\n",
    "        img_sample.save(join(samples_folder, category, f'{base_name:s}_{i:02d}.jpg'))   \n",
    "        img_grey = img.convert('L')                           \n",
    "        feature_vector = get_glcm_feature_array(np.array(img_grey))    \n",
    "        feature_vector.append(category)                         \n",
    "        features.append(feature_vector)                         "
   ]
  },
  {
   "cell_type": "code",
   "execution_count": 25,
   "id": "8b2a6dae",
   "metadata": {},
   "outputs": [],
   "source": [
    "full_feature_names = get_full_names()\n",
    "full_feature_names.append('Category')\n",
    "\n",
    "df = DataFrame(data=features, columns=full_feature_names)\n",
    "df.to_csv('textures_data.csv', sep=',', index=False)        # zapis do pliku"
   ]
  },
  {
   "cell_type": "code",
   "execution_count": 26,
   "id": "d9841b87",
   "metadata": {},
   "outputs": [],
   "source": [
    "from sklearn import svm\n",
    "from sklearn.model_selection import train_test_split\n",
    "from sklearn.metrics import accuracy_score, confusion_matrix, plot_confusion_matrix\n",
    "from sklearn.decomposition import PCA\n",
    "import pandas as pd\n",
    "import matplotlib.pyplot as plt"
   ]
  },
  {
   "cell_type": "code",
   "execution_count": 27,
   "id": "88fa88ce",
   "metadata": {},
   "outputs": [],
   "source": [
    "features = pd.read_csv('textures_data.csv', sep=',')    # otwarcie pliku z danymi\n",
    "\n",
    "data = np.array(features)       # zapis danych do tablicy\n",
    "x = (data[:, :-1]).astype('float64')    # do X zapisuje wszystkie kolumny BEZ OSTATNIEJ (-1), astype - zamiana typu\n",
    "y = data[:, -1]\n",
    "\n",
    "x_transform = PCA(n_components=3)\n",
    "xt = x_transform.fit_transform(x)\n",
    "\n",
    "red = y == 'drewno'\n",
    "blue = y == 'scany'\n",
    "green = y == 'plytki'"
   ]
  },
  {
   "cell_type": "code",
   "execution_count": 28,
   "id": "94697678",
   "metadata": {},
   "outputs": [
    {
     "data": {
      "text/plain": [
       "<mpl_toolkits.mplot3d.art3d.Path3DCollection at 0x29300d3f040>"
      ]
     },
     "execution_count": 28,
     "metadata": {},
     "output_type": "execute_result"
    },
    {
     "data": {
      "image/png": "[encoded data removed]",
      "text/plain": [
       "<Figure size 432x288 with 1 Axes>"
      ]
     },
     "metadata": {
      "needs_background": "light"
     },
     "output_type": "display_data"
    }
   ],
   "source": [
    "fig = plt.figure()\n",
    "ax = fig.add_subplot(111, projection='3d')\n",
    "ax.scatter(xt[red, 0], xt[red, 1], xt[red, 2], c=\"r\")\n",
    "ax.scatter(xt[blue, 0], xt[blue, 1], xt[blue, 2], c=\"b\")\n",
    "ax.scatter(xt[green, 0], xt[green, 1], xt[green, 2], c=\"g\")"
   ]
  },
  {
   "cell_type": "code",
   "execution_count": 29,
   "id": "88d2d933",
   "metadata": {},
   "outputs": [],
   "source": [
    "classifier = svm.SVC(gamma='auto')\n",
    "\n",
    "x_train, x_test, y_train, y_test = train_test_split(x, y, test_size=0.33)"
   ]
  },
  {
   "cell_type": "code",
   "execution_count": 30,
   "id": "eddcfcd5",
   "metadata": {},
   "outputs": [
    {
     "name": "stdout",
     "output_type": "stream",
     "text": [
      "1.0\n",
      "[[1. 0. 0.]\n",
      " [0. 1. 0.]\n",
      " [0. 0. 1.]]\n"
     ]
    },
    {
     "data": {
      "image/png": "[encoded data removed]",
      "text/plain": [
       "<Figure size 432x288 with 2 Axes>"
      ]
     },
     "metadata": {
      "needs_background": "light"
     },
     "output_type": "display_data"
    }
   ],
   "source": [
    "classifier.fit(x_train,y_train)\n",
    "y_pred = classifier.predict(x_test)\n",
    "acc = accuracy_score(y_test, y_pred)\n",
    "print(acc)\n",
    "\n",
    "cm = confusion_matrix(y_test, y_pred, normalize='true')\n",
    "\n",
    "print(cm)\n",
    "\n",
    "disp = plot_confusion_matrix(classifier, x_test, y_test, cmap=plt.cm.Blues)\n",
    "plt.show()"
   ]
  },
  {
   "cell_type": "code",
   "execution_count": null,
   "id": "50f87f40",
   "metadata": {},
   "outputs": [],
   "source": []
  },
  {
   "cell_type": "code",
   "execution_count": null,
   "id": "15da2fe2",
   "metadata": {},
   "outputs": [],
   "source": []
  }
 ],
 "metadata": {
  "kernelspec": {
   "display_name": "Python 3 (ipykernel)",
   "language": "python",
   "name": "python3"
  },
  "language_info": {
   "codemirror_mode": {
    "name": "ipython",
    "version": 3
   },
   "file_extension": ".py",
   "mimetype": "text/x-python",
   "name": "python",
   "nbconvert_exporter": "python",
   "pygments_lexer": "ipython3",
   "version": "3.9.7"
  }
 },
 "nbformat": 4,
 "nbformat_minor": 5
}
